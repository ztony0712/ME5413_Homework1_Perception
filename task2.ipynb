{
 "cells": [
  {
   "cell_type": "markdown",
   "metadata": {},
   "source": [
    "LOAD DATA "
   ]
  },
  {
   "cell_type": "code",
   "execution_count": 1,
   "metadata": {},
   "outputs": [],
   "source": [
    "import numpy as np\n",
    "import matplotlib.pyplot as plt\n",
    "from dataclasses import dataclass\n",
    "data_path ='data/Task 2/sample_1a2bc3012c9defca.npz'\n"
   ]
  },
  {
   "cell_type": "code",
   "execution_count": 2,
   "metadata": {},
   "outputs": [],
   "source": [
    "info = np.load(data_path,allow_pickle=True)\n",
    "all_agent_trajs        = info['all_agent']    \n",
    "all_agent_trajs.shape  #[24 agents, 91 timesteps the interval between each timestep is 0.1 second,\\\n",
    "    #10 denotes [center_x, center_y, center_z, boundingbox_x, boundingbox_y, boundingbox_z, heading, vel_x, vel_y, valid] ]\n",
    "#the valid flag is either 0 or 1. 1 means the valid, 0 means invalid\n",
    "obj_types              = info['object_type']\n",
    "lane_polylines         = info['lane']           #  list of [n,7] array [x,y,z,ori_x,ori_y,ori_z,type]\n",
    "road_polylines         = info['road_polylines'] #  list of [n,7] array [x,y,z,ori_x,ori_y,ori_z,type]\n",
    "crosswalk_polylines    = info['crosswalk']      #  list of [n,7] array [x,y,z,ori_x,ori_y,ori_z,type]\n",
    "speed_bump_polylines   = info['speed_bump']     #  list of [n,7] array [x,y,z,ori_x,ori_y,ori_z,type]\n",
    "stop_signs_polylines   = info['stop_sign']      #  list of [n,7] array [x,y,z,ori_x,ori_y,ori_z,type]\n",
    "drive_way_polylines    = info['drive_way']      #  list of [n,7] array [x,y,z,ori_x,ori_y,ori_z,type]\n"
   ]
  },
  {
   "cell_type": "markdown",
   "metadata": {},
   "source": [
    "We select the 11th timestep as the current timestep "
   ]
  },
  {
   "cell_type": "code",
   "execution_count": 3,
   "metadata": {},
   "outputs": [
    {
     "data": {
      "text/plain": [
       "(24, 10)"
      ]
     },
     "execution_count": 3,
     "metadata": {},
     "output_type": "execute_result"
    }
   ],
   "source": [
    "all_agent_current = all_agent_trajs[:,10]\n",
    "all_agent_current.shape"
   ]
  },
  {
   "cell_type": "code",
   "execution_count": 4,
   "metadata": {},
   "outputs": [
    {
     "data": {
      "text/plain": [
       "(24, 30, 10)"
      ]
     },
     "execution_count": 4,
     "metadata": {},
     "output_type": "execute_result"
    }
   ],
   "source": [
    "#ground truth for the future 1s,2s,3s can be easily derived by :\n",
    "predict_horizon = 30 #20,30\n",
    "all_gt_future=all_agent_trajs[:,11:11+predict_horizon]\n",
    "all_gt_future.shape"
   ]
  },
  {
   "cell_type": "markdown",
   "metadata": {},
   "source": [
    "Index of target agnet to preict"
   ]
  },
  {
   "cell_type": "code",
   "execution_count": 5,
   "metadata": {},
   "outputs": [
    {
     "data": {
      "text/plain": [
       "(8, 91, 10)"
      ]
     },
     "execution_count": 5,
     "metadata": {},
     "output_type": "execute_result"
    }
   ],
   "source": [
    "tracks        = info['predict_list']  \n",
    "tracks\n",
    "agents_to_predict = all_agent_trajs[tracks]\n",
    "agents_to_predict.shape"
   ]
  },
  {
   "cell_type": "code",
   "execution_count": 6,
   "metadata": {},
   "outputs": [],
   "source": [
    "\"\"\"\n",
    "    1. Check if the data is valid in the first 11 timesteps (1 second)\n",
    "    2. Global variables and class initialization\n",
    "    3. ADE and FDE calculation function definition\n",
    "\"\"\"\n",
    "\n",
    "# 1. Check if the data is valid in the first 11 timesteps (1 second)\n",
    "data_to_check = agents_to_predict[:, :11, :]  # shape [agents, 10, features]\n",
    "for agent_index in range(data_to_check.shape[0]):\n",
    "    for time_index in range(11):\n",
    "        # If the data is invalid, replace it with nan\n",
    "        if data_to_check[agent_index, time_index, 9] == 0: \n",
    "            data_to_check[agent_index, time_index, :9] = np.nan\n",
    "    # Calculate the mean of the valid data\n",
    "    mean = np.nanmean(data_to_check[agent_index, :, :9], axis=0)\n",
    "    for time_index in range(11):\n",
    "        # If the data is invalid, replace it with the mean\n",
    "        if data_to_check[agent_index, time_index, 9] == 0:\n",
    "            data_to_check[agent_index, time_index, :9] = mean\n",
    "# Replace the first 10 timesteps with the corrected data\n",
    "agents_to_predict[:, :11, :9] = data_to_check[:, :, :9]\n",
    "\n",
    "# 2. Global variables and class initialization\n",
    "@dataclass\n",
    "class PredictionModel:\n",
    "    name: str\n",
    "    prediction: np.ndarray\n",
    "    ades: np.ndarray\n",
    "    fdes: np.ndarray\n",
    "    distances: np.ndarray\n",
    "\n",
    "his_start = 0\n",
    "timestep = 0.1\n",
    "predict_horizon = 30\n",
    "current_positions = agents_to_predict[:,10]\n",
    "gt_future_position = agents_to_predict[:,11:11+predict_horizon,:2]\n",
    "predicted_trajectories = np.zeros((len(agents_to_predict),predict_horizon,2)) # shape (8, 30, 2)\n",
    "# Average velocity in first 11 timesteps\n",
    "vel_x_avg = np.mean(agents_to_predict[:,his_start:11,7], axis=1) # shape (8, 30)\n",
    "vel_y_avg = np.mean(agents_to_predict[:,his_start:11,8], axis=1) # shape (8, 30)\n",
    "# Average acceleration in first 11 timesteps\n",
    "acc_x = np.diff(agents_to_predict[:,his_start:11,7], axis=1)/timestep # shape (8, 9)\n",
    "acc_y = np.diff(agents_to_predict[:,his_start:11,8], axis=1)/timestep # shape (8, 9)\n",
    "acc_x_avg = np.mean(acc_x, axis=1)\n",
    "acc_y_avg = np.mean(acc_y, axis=1)\n",
    "\n",
    "# Calculate the predicted trajectories for each agent\n",
    "def ADE_FDE_calculation(predicted_trajectories):\n",
    "    distances = np.linalg.norm(predicted_trajectories-gt_future_position,axis=2) # shape (8, 30)\n",
    "    ades = np.mean(distances, axis=1)\n",
    "    fdes = distances[:,-1]\n",
    "\n",
    "    mean_ade = np.round(np.mean(ades), 4)\n",
    "    mean_fde = np.round(np.mean(fdes), 4)\n",
    "\n",
    "    final_ades = np.round(ades, 4)\n",
    "    final_fdes = np.round(fdes, 4)\n",
    "    \n",
    "    for i, track in enumerate(tracks):\n",
    "        print(f\"Agent {track} - ADE: {final_ades[i]} FDE: {final_fdes[i]}\")\n",
    "    print(f'\\nMean ADE: {mean_ade} Mean FDE: {mean_fde}')\n",
    "\n",
    "    return final_ades, final_fdes, distances\n"
   ]
  },
  {
   "cell_type": "markdown",
   "metadata": {},
   "source": [
    "The homework should be done on these 8 agents."
   ]
  },
  {
   "cell_type": "markdown",
   "metadata": {},
   "source": [
    "Q1.Using constant velocity model to predict the future (1s,2s,3s) trajectories of the target agent and calculate the ADE and FDE.  "
   ]
  },
  {
   "cell_type": "code",
   "execution_count": 7,
   "metadata": {},
   "outputs": [
    {
     "name": "stdout",
     "output_type": "stream",
     "text": [
      "Agent 22 - ADE: 0.1429 FDE: 0.2534\n",
      "Agent 15 - ADE: 1.7832 FDE: 6.0368\n",
      "Agent 4 - ADE: 3.9185 FDE: 9.9969\n",
      "Agent 5 - ADE: 2.9272 FDE: 7.1043\n",
      "Agent 9 - ADE: 1.4494 FDE: 4.7071\n",
      "Agent 14 - ADE: 0.855 FDE: 1.9633\n",
      "Agent 6 - ADE: 0.4247 FDE: 1.0645\n",
      "Agent 7 - ADE: 0.3868 FDE: 0.6687\n",
      "\n",
      "Mean ADE: 1.486 Mean FDE: 3.9744\n"
     ]
    }
   ],
   "source": [
    "\"\"\"\n",
    "    #Constant Velocity Model#\n",
    "\n",
    "    cv_predicted_trajectories instance is created \n",
    "    by using the average velocity of the first \n",
    "    10 timesteps to predict the future positions.\n",
    "\"\"\"\n",
    "\n",
    "# Use the average velocity to predict the future positions\n",
    "for t in range(predict_horizon):\n",
    "    predicted_trajectories[:, t, 0] = current_positions[:, 0] + vel_x_avg * (t+1) * timestep  # shape [8, 30]\n",
    "    predicted_trajectories[:, t, 1] = current_positions[:, 1] + vel_y_avg * (t+1) * timestep  # shape [8, 30]\n",
    "\n",
    "ades, fdes, error = ADE_FDE_calculation(predicted_trajectories)\n",
    "cv_predicted_trajectories = PredictionModel(\n",
    "    \"Constant Velocity Model\", \n",
    "    predicted_trajectories.copy(), \n",
    "    ades.copy(), \n",
    "    fdes.copy(),\n",
    "    error.copy()\n",
    ")"
   ]
  },
  {
   "cell_type": "markdown",
   "metadata": {},
   "source": [
    "Q2.Using constant acceleration model to predict the future (1s,2s,3s) trajectories of the target agent and calculate the ADE and FDE. "
   ]
  },
  {
   "cell_type": "code",
   "execution_count": 8,
   "metadata": {},
   "outputs": [
    {
     "name": "stdout",
     "output_type": "stream",
     "text": [
      "Agent 22 - ADE: 0.9279 FDE: 2.5128\n",
      "Agent 15 - ADE: 2.4521 FDE: 7.2758\n",
      "Agent 4 - ADE: 1.8632 FDE: 5.4179\n",
      "Agent 5 - ADE: 0.1984 FDE: 0.3739\n",
      "Agent 9 - ADE: 0.9179 FDE: 1.1098\n",
      "Agent 14 - ADE: 0.6053 FDE: 1.3769\n",
      "Agent 6 - ADE: 1.9796 FDE: 4.9389\n",
      "Agent 7 - ADE: 0.2129 FDE: 0.8187\n",
      "\n",
      "Mean ADE: 1.1447 Mean FDE: 2.9781\n"
     ]
    }
   ],
   "source": [
    "\"\"\"\n",
    "    #Constant Acceleration Model#\n",
    "\n",
    "    ca_predicted_trajectories instance is created \n",
    "    by using the average acceleration of the first \n",
    "    10 timesteps to predict the future positions.\n",
    "\"\"\"\n",
    "\n",
    "# Aquire the velocity information on current time step\n",
    "vel_x = agents_to_predict[:, 10, 7] # shape [8, 30]\n",
    "vel_y = agents_to_predict[:, 10, 8] # shape [8, 30]\n",
    "\n",
    "# Use the average acceleration to predict the future positions\n",
    "for t in range(predict_horizon):\n",
    "    delta_t = (t + 1) * timestep\n",
    "    predicted_trajectories[:, t, 0] = current_positions[:, 0] + vel_x * delta_t + 0.5 * acc_x_avg * delta_t**2\n",
    "    predicted_trajectories[:, t, 1] = current_positions[:, 1] + vel_y * delta_t + 0.5 * acc_y_avg * delta_t**2\n",
    "\n",
    "ades, fdes, error = ADE_FDE_calculation(predicted_trajectories)\n",
    "ca_predicted_trajectories = PredictionModel(\n",
    "    \"Constant Acceleration Model\", \n",
    "    predicted_trajectories.copy(), \n",
    "    ades.copy(), \n",
    "    fdes.copy(),\n",
    "    error.copy()\n",
    ")"
   ]
  },
  {
   "cell_type": "markdown",
   "metadata": {},
   "source": [
    "Using Constant Turn Rate and Velocity(CTRV) model to predict the future (1s,2s,3s) trajectories of the target agent and calculate the ADE and FDE. "
   ]
  },
  {
   "cell_type": "code",
   "execution_count": 9,
   "metadata": {},
   "outputs": [
    {
     "name": "stdout",
     "output_type": "stream",
     "text": [
      "Agent 22 - ADE: 3.3064 FDE: 6.4169\n",
      "Agent 15 - ADE: 3.6645 FDE: 8.0741\n",
      "Agent 4 - ADE: 4.8353 FDE: 11.7607\n",
      "Agent 5 - ADE: 2.9274 FDE: 7.105\n",
      "Agent 9 - ADE: 1.3404 FDE: 4.5349\n",
      "Agent 14 - ADE: 2.1258 FDE: 4.241\n",
      "Agent 6 - ADE: 0.7992 FDE: 1.3506\n",
      "Agent 7 - ADE: 1.3407 FDE: 2.4844\n",
      "\n",
      "Mean ADE: 2.5425 Mean FDE: 5.7459\n"
     ]
    }
   ],
   "source": [
    "\"\"\"\n",
    "    #Constant Turn Rate and Velocity(CTRV) Model#\n",
    "\n",
    "    ctrv_predicted_trajectories instance is created \n",
    "    by using the average velocity and the yaw rate of \n",
    "    the first 10 timesteps to predict the future positions.\n",
    "\"\"\"\n",
    "\n",
    "current_heading = agents_to_predict[:, 10, 6].copy()\n",
    "predicted_trajectories_yaw = np.zeros((agents_to_predict.shape[0], predict_horizon, 2))  # shape [8, 30, 2]\n",
    "\n",
    "# Calculate the average yaw rate of the agents\n",
    "# agents_to_predict[:, :, 6] = np.radians(agents_to_predict[:, :, 6])  # Convert the heading to radians\n",
    "yaw_rate = np.diff(agents_to_predict[:, his_start:11, 6], axis=1) / timestep # shape [8, 10]\n",
    "average_yaw_rate = np.mean(yaw_rate, axis=1) # shape [8]\n",
    "\n",
    "for t in range(predict_horizon):\n",
    "    delta_x = vel_x_avg * np.cos(current_heading) * timestep\n",
    "    delta_y = vel_y_avg * np.sin(current_heading) * timestep\n",
    "    predicted_trajectories_yaw[:, t, 0] = predicted_trajectories_yaw[:, t-1, 0] + delta_x if t > 0 else current_positions[:, 0] + delta_x\n",
    "    predicted_trajectories_yaw[:, t, 1] = predicted_trajectories_yaw[:, t-1, 1] + delta_y if t > 0 else current_positions[:, 1] + delta_y\n",
    "    # Update the heading using the average yaw rate\n",
    "    current_heading += average_yaw_rate * timestep\n",
    "\n",
    "predicted_trajectories = predicted_trajectories_yaw\n",
    "ades, fdes, error = ADE_FDE_calculation(predicted_trajectories)\n",
    "ctrv_predicted_trajectories = PredictionModel(\n",
    "    \"Constant Turn Rate and Velocity Model\", \n",
    "    predicted_trajectories.copy(), \n",
    "    ades.copy(), \n",
    "    fdes.copy(),\n",
    "    error.copy()\n",
    ")\n"
   ]
  },
  {
   "cell_type": "markdown",
   "metadata": {},
   "source": [
    "Briefly discuss the observations from your results. "
   ]
  },
  {
   "cell_type": "markdown",
   "metadata": {},
   "source": [
    "If you want to visualize the scenario here are some simple demo codes for you.\n",
    "\n",
    "    'TYPE_FREEWAY': 1,\n",
    "    'TYPE_SURFACE_STREET': 2,\n",
    "    'TYPE_BIKE_LANE': 3,\n",
    "\n",
    "    # for roadline\n",
    "    'TYPE_UNKNOWN': -1,\n",
    "    'TYPE_BROKEN_SINGLE_WHITE': 6,\n",
    "    'TYPE_SOLID_SINGLE_WHITE': 7,\n",
    "    'TYPE_SOLID_DOUBLE_WHITE': 8,\n",
    "    'TYPE_BROKEN_SINGLE_YELLOW': 9,\n",
    "    'TYPE_BROKEN_DOUBLE_YELLOW': 10,\n",
    "    'TYPE_SOLID_SINGLE_YELLOW': 11,\n",
    "    'TYPE_SOLID_DOUBLE_YELLOW': 12,\n",
    "    'TYPE_PASSING_DOUBLE_YELLOW': 13,\n",
    "\n",
    "    # for roadedge\n",
    "    'TYPE_ROAD_EDGE_BOUNDARY': 15,\n",
    "    'TYPE_ROAD_EDGE_MEDIAN': 16,\n",
    "\n",
    "    # for stopsign\n",
    "    'TYPE_STOP_SIGN': 17,\n",
    "\n",
    "    # for crosswalk\n",
    "    'TYPE_CROSSWALK': 18,\n",
    "\n",
    "    # for speed bump\n",
    "    'TYPE_SPEED_BUMP': 19,\n",
    "    \n",
    "    # for driveway\n",
    "    'TYPE_DRIVEWAY': 20,"
   ]
  },
  {
   "cell_type": "code",
   "execution_count": 10,
   "metadata": {},
   "outputs": [],
   "source": [
    "\"\"\"\n",
    "    This cell visualizes the predicted trajectories, history,\n",
    "    and ground truth of each agent on the map.\n",
    "\"\"\"\n",
    "\n",
    "def visualize_trajectories(predicted_trajectories, color):\n",
    "    \"\"\"\n",
    "        Visualize the predicted trajectories for each agent\n",
    "        with the specified color.\n",
    "        \n",
    "        Args:\n",
    "        - predicted_trajectories: PredictionModel\n",
    "        - color: str\n",
    "\n",
    "        Returns:\n",
    "        - None\n",
    "    \"\"\"\n",
    "\n",
    "    trajectory = predicted_trajectories.prediction\n",
    "\n",
    "    for idx in range(tracks.shape[0]): \n",
    "        agent_traj = trajectory[idx] # shape [30, 2]\n",
    "        # Calculate the range of the current trajectory (min and max coordinate values)\n",
    "        min_x, max_x = min(agent_traj[:, 0]), max(agent_traj[:, 0])\n",
    "        min_y, max_y = min(agent_traj[:, 1]), max(agent_traj[:, 1])\n",
    "        x_range = (min_x - margin, max_x + margin)\n",
    "        y_range = (min_y - margin, max_y + margin)\n",
    "        # Get the current axis limits\n",
    "        current_xlim = axs[idx].get_xlim()\n",
    "        current_ylim = axs[idx].get_ylim()\n",
    "        # Let the bigger range be the new range\n",
    "        new_x_min = min(x_range[0], current_xlim[0])\n",
    "        new_x_max = max(x_range[1], current_xlim[1])\n",
    "        new_y_min = min(y_range[0], current_ylim[0])\n",
    "        new_y_max = max(y_range[1], current_ylim[1])\n",
    "        # Set the new axis limits\n",
    "        axs[idx].set_xlim(new_x_min, new_x_max)\n",
    "        axs[idx].set_ylim(new_y_min, new_y_max)\n",
    "        # Label the corresponding prediction model\n",
    "        label = 'prediction'\n",
    "        if predicted_trajectories.name == 'Constant Velocity Model':\n",
    "            label = 'CV prediction'\n",
    "        elif predicted_trajectories.name == 'Constant Acceleration Model':\n",
    "            label = 'CA prediction'\n",
    "        elif predicted_trajectories.name == 'Constant Turn Rate and Velocity Model':\n",
    "            label = 'CTRV prediction'\n",
    "        axs[idx].plot(agent_traj[:, 0], agent_traj[:, 1], color, label=label)\n",
    "        axs[idx].legend(loc='upper right')\n",
    "\n",
    "# Global variables initialization\n",
    "margin = 15  # Margin for the axis limits\n",
    "history_trajectories = agents_to_predict[:, :10, :2]  # shape [8, 10, 2]\n",
    "fig, axs = plt.subplots(3, 3, figsize=(15, 15)) # Create a 3x3 grid of subplots\n",
    "axs = axs.flatten()\n",
    "\n",
    "for idx, track_id in enumerate(tracks[:8]):\n",
    "    axs[idx].set_facecolor('xkcd:grey')\n",
    "    axs[idx].set_title(f'Agent {track_id}')\n",
    "    start_point = current_positions[idx] # shape [2]\n",
    "    # Set the initial axis limits\n",
    "    agent_hist = history_trajectories[idx] # shape [10, 2]\n",
    "    agent_gt = gt_future_position[idx] # shape [30, 2]\n",
    "    all_gt = np.concatenate((agent_hist, agent_gt), axis=0)  # shape [40, 2]\n",
    "    min_x, max_x = min(all_gt[:, 0]), max(all_gt[:, 0])\n",
    "    min_y, max_y = min(all_gt[:, 1]), max(all_gt[:, 1])\n",
    "    axs[idx].set_xlim(min_x - margin, max_x + margin)\n",
    "    axs[idx].set_ylim(min_y - margin, max_y + margin)\n",
    "\n",
    "    # Subplot for the map, history, ground truth, and start point\n",
    "    for polyline in road_polylines:\n",
    "        map_type = polyline[0, 6]\n",
    "        color = 'w' if map_type in [6, 7, 8] else 'xkcd:yellow' if map_type in [9, 10, 11, 12, 13] else 'k'\n",
    "        linestyle = 'dashed' if map_type in [6, 9, 10] else 'solid' if map_type in [7, 8, 11, 12] else 'dotted' if map_type == 13 else 'solid'\n",
    "        axs[idx].plot(polyline[:, 0], polyline[:, 1], color=color, linestyle=linestyle, linewidth=1)\n",
    "    axs[idx].plot(agent_hist[:, 0], agent_hist[:, 1], 'g', label='history')  # Use green line to plot history\n",
    "    axs[idx].plot(agent_gt[:, 0], agent_gt[:, 1], 'g--', label='groud truth')  # Use green dashed line to plot ground truth\n",
    "    axs[idx].scatter(start_point[0], start_point[1], c='g')  # Use green dot to plot start point\n",
    "    axs[idx].legend(loc='upper right')\n",
    "\n",
    "# Visualize the predicted trajectories\n",
    "visualize_trajectories(cv_predicted_trajectories, 'b')\n",
    "visualize_trajectories(ca_predicted_trajectories, 'r')\n",
    "visualize_trajectories(ctrv_predicted_trajectories, 'm')\n",
    "\n",
    "# Save the visualization as 'viz.png'\n",
    "plt.tight_layout()\n",
    "filename = 'data/Task 2/viz.png'\n",
    "plt.savefig(filename)\n",
    "plt.close()\n"
   ]
  },
  {
   "cell_type": "code",
   "execution_count": null,
   "metadata": {},
   "outputs": [],
   "source": [
    "\"\"\"\n",
    "    This cell visualizes the displacement errors of each agent,\n",
    "    and displays the mean ADE and FDE for each time range.\n",
    "\"\"\"\n",
    "\n",
    "# Global variables initialization\n",
    "cv_errors = cv_predicted_trajectories.distances # shape (8, 30)\n",
    "ca_errors = ca_predicted_trajectories.distances # shape (8, 30)\n",
    "ctrv_errors = ctrv_predicted_trajectories.distances # shape (8, 30)\n",
    "timesteps = np.arange(11, 11+predict_horizon)\n",
    "fig, axs = plt.subplots(3, 1, figsize=(8, 10))\n",
    "models = ['CV Model', 'CA Model', 'CTRV Model']\n",
    "errors = [cv_errors, ca_errors, ctrv_errors]\n",
    "# Get rid of the useless index\n",
    "useless_idx = 0\n",
    "for idx, track in enumerate(tracks):\n",
    "    if idx == 22:\n",
    "        useless_idx = idx\n",
    "        break\n",
    "\n",
    "# Plot the displacement errors for each model\n",
    "for ax, model, error in zip(axs, models, errors):\n",
    "    for i in range(error.shape[0]):\n",
    "        if i == useless_idx:\n",
    "            continue\n",
    "        ax.plot(timesteps, error[i, :], label=f'Agent - {tracks[i]}')\n",
    "    ax.set_title(f'{model} Displacement Errors')\n",
    "    ax.set_xlabel('Timestep')\n",
    "    ax.set_ylabel('Displacement Error')\n",
    "    # Vertical dashed lines for each second\n",
    "    for line in range(10, 41, 10):\n",
    "        ax.axvline(x=line, color='k', linestyle='--', linewidth=1)\n",
    "    # Delete the useless agent error\n",
    "    for agent_idx in range(error.shape[0]):\n",
    "        if agent_idx == useless_idx:\n",
    "            error = np.delete(error, agent_idx, axis=0)\n",
    "    # Display the mean ADE and FDE for each time range\n",
    "    for line in range(10, 31, 10):\n",
    "        mean_ade = np.round(np.mean(error[:,:line]), 4)\n",
    "        ax.plot([], [], ' ', label=f'{int(line/10)} sencond(s) mean ADE: {mean_ade}')\n",
    "    for line in range(10, 31, 10):\n",
    "        mean_fde = np.round(np.mean(error[:,line-1]), 4)\n",
    "        ax.plot([], [], ' ', label=f'{int(line/10)} sencond(s) mean FDE: {mean_fde}')\n",
    "    ax.legend(loc='upper left', ncol=2)    \n",
    "\n",
    "# Save the visualization as 'metrics.png'\n",
    "plt.tight_layout()\n",
    "filename = 'data/Task 2/metrics.png'\n",
    "plt.savefig(filename)\n",
    "plt.close()\n"
   ]
  }
 ],
 "metadata": {
  "kernelspec": {
   "display_name": "DgxEnv",
   "language": "python",
   "name": "python3"
  },
  "language_info": {
   "codemirror_mode": {
    "name": "ipython",
    "version": 3
   },
   "file_extension": ".py",
   "mimetype": "text/x-python",
   "name": "python",
   "nbconvert_exporter": "python",
   "pygments_lexer": "ipython3",
   "version": "3.9.18"
  }
 },
 "nbformat": 4,
 "nbformat_minor": 2
}
